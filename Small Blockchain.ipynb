{
 "cells": [
  {
   "cell_type": "code",
   "execution_count": 1,
   "id": "proof-recognition",
   "metadata": {},
   "outputs": [],
   "source": [
    "import hashlib\n",
    "import json\n",
    "\n",
    "def sign(text):\n",
    "    h = hashlib.new('sha256')\n",
    "    h.update(text.encode(\"utf-8\"))\n",
    "    return h.hexdigest()\n",
    "\n",
    "\n",
    "def sign_block(block):\n",
    "    return sign(json.dumps(block))"
   ]
  },
  {
   "cell_type": "code",
   "execution_count": 2,
   "id": "intermediate-center",
   "metadata": {},
   "outputs": [
    {
     "data": {
      "text/plain": [
       "[{'id': 0,\n",
       "  'previous_signature': '',\n",
       "  'data': [{'from': 'Satoshi', 'to': 'Sarah', 'amount': 'Rice'}]},\n",
       " {'id': 1,\n",
       "  'previous_signature': '7d8a8246b5e9696ca7963f27309005c1cd503e791fb0a2d1f0f7a1f0d4e7209f',\n",
       "  'data': [{'from': 'Satos', 'to': 'Sarah', 'amount': 10}]},\n",
       " {'id': 2,\n",
       "  'previous_signature': '4175499c8ff87e8124b189c5db263ca8506450682830eec7f628a2f2f33eafec',\n",
       "  'data': [{'f': 'Satos', 'to': 'Sarah', 'amount': 10}]}]"
      ]
     },
     "execution_count": 2,
     "metadata": {},
     "output_type": "execute_result"
    }
   ],
   "source": [
    "def add_block(chain, data):\n",
    "    signature = ''\n",
    "    if len(chain) > 0:\n",
    "        signature = sign_block(chain[-1])\n",
    "    block = {\n",
    "        'id': len(chain),\n",
    "        'previous_signature': signature,\n",
    "        'data': data\n",
    "    }\n",
    "    chain.append(block)\n",
    "\n",
    "\n",
    "chain = []\n",
    "\n",
    "add_block(chain, [{'from': \"Satoshi\", 'to': \"Sarah\", 'amount': 'Rice'}])\n",
    "add_block(chain, [{'from': \"Satos\", 'to': \"Sarah\", 'amount': 10}])\n",
    "add_block(chain, [{'f': \"Satos\", 'to': \"Sarah\", 'amount': 10}])\n",
    "\n",
    "\n",
    "\n",
    "# add_block({\n",
    "#     'id': 1,\n",
    "#     'previous_signature': sign(block_genesis)\n",
    "#     'data': [\n",
    "#         \"sarah pooped\",\n",
    "#         {'from': \"vadim\", 'to': \"Kate\", 'amount': 100},\n",
    "#         {'from': \"kate\", 'to': \"Sarah\", 'amount': 'Rice'}\n",
    "#     ] \n",
    "# })\n",
    "\n",
    "chain"
   ]
  },
  {
   "cell_type": "code",
   "execution_count": 3,
   "id": "stainless-cutting",
   "metadata": {},
   "outputs": [
    {
     "data": {
      "text/plain": [
       "[{'id': 0,\n",
       "  'previous_signature': '',\n",
       "  'data': [{'from': 'Satoshi', 'to': 'Sarah', 'amount': 'Rice'}]},\n",
       " {'id': 1,\n",
       "  'previous_signature': '7d8a8246b5e9696ca7963f27309005c1cd503e791fb0a2d1f0f7a1f0d4e7209f',\n",
       "  'data': [{'from': 'Satos', 'to': 'Paprika', 'amount': 10}]},\n",
       " {'id': 2,\n",
       "  'previous_signature': '4175499c8ff87e8124b189c5db263ca8506450682830eec7f628a2f2f33eafec',\n",
       "  'data': [{'f': 'Satos', 'to': 'Sarah', 'amount': 10}]}]"
      ]
     },
     "execution_count": 3,
     "metadata": {},
     "output_type": "execute_result"
    }
   ],
   "source": [
    "kek_chain = json.loads(json.dumps(chain))\n",
    "kek_chain[1]['data'][0]['to'] = \"Paprika\"\n",
    "kek_chain"
   ]
  },
  {
   "cell_type": "code",
   "execution_count": 5,
   "id": "presidential-password",
   "metadata": {},
   "outputs": [
    {
     "name": "stdout",
     "output_type": "stream",
     "text": [
      "{'id': 2, 'previous_signature': '4175499c8ff87e8124b189c5db263ca8506450682830eec7f628a2f2f33eafec', 'data': [{'f': 'Satos', 'to': 'Sarah', 'amount': 10}]}\n"
     ]
    },
    {
     "data": {
      "text/plain": [
       "False"
      ]
     },
     "execution_count": 5,
     "metadata": {},
     "output_type": "execute_result"
    }
   ],
   "source": [
    "block_number = 2\n",
    "kek_chain[block_number]['previous_signature'] == sign_block(kek_chain[block_number - 1])\n",
    "\n",
    "\n",
    "def verify_chain(chain):\n",
    "    for i in chain:\n",
    "        if i['id'] == 0:\n",
    "            continue\n",
    "        if i['previous_signature'] == sign_block(chain[i['id']-1]):\n",
    "            continue\n",
    "        else:\n",
    "            print(i)\n",
    "            return False\n",
    "        \n",
    "verify_chain(kek_chain)"
   ]
  },
  {
   "cell_type": "code",
   "execution_count": 6,
   "id": "infinite-advancement",
   "metadata": {},
   "outputs": [
    {
     "data": {
      "text/plain": [
       "{'id': 1,\n",
       " 'previous_signature': '7d8a8246b5e9696ca7963f27309005c1cd503e791fb0a2d1f0f7a1f0d4e7209f',\n",
       " 'data': [{'from': 'Satos', 'to': 'Sarah', 'amount': 10}]}"
      ]
     },
     "execution_count": 6,
     "metadata": {},
     "output_type": "execute_result"
    }
   ],
   "source": [
    "chain[block_number - 1]"
   ]
  },
  {
   "cell_type": "code",
   "execution_count": null,
   "id": "hawaiian-analyst",
   "metadata": {},
   "outputs": [],
   "source": []
  }
 ],
 "metadata": {
  "kernelspec": {
   "display_name": "Python 3 (ipykernel)",
   "language": "python",
   "name": "python3"
  },
  "language_info": {
   "codemirror_mode": {
    "name": "ipython",
    "version": 3
   },
   "file_extension": ".py",
   "mimetype": "text/x-python",
   "name": "python",
   "nbconvert_exporter": "python",
   "pygments_lexer": "ipython3",
   "version": "3.9.7"
  }
 },
 "nbformat": 4,
 "nbformat_minor": 5
}
